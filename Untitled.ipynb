{
 "cells": [
  {
   "cell_type": "markdown",
   "metadata": {},
   "source": [
    "Goal of this file is to compile all functions I need for interpretation of data throughout my Graduate degree. "
   ]
  },
  {
   "cell_type": "code",
   "execution_count": 1,
   "metadata": {},
   "outputs": [],
   "source": [
    "#Importing libraries\n",
    "\n",
    "\n",
    "import numpy as np #Needed for a bunch of mathematical operations.\n"
   ]
  },
  {
   "cell_type": "code",
   "execution_count": 8,
   "metadata": {},
   "outputs": [],
   "source": [
    "# Importing a data set from a frequency sweep for the storage and loss moduli. We get omega, G' and G''.\n",
    "\n",
    "omega = np.array([])\n",
    "lossModulus = np.array([])\n",
    "storModulus = np.array([])\n",
    "\n",
    "## Find some way to imput this data from an excel sheet and redefine them all.\n",
    "## This could be rewritten into a function.\n",
    "\n",
    "\n"
   ]
  },
  {
   "cell_type": "code",
   "execution_count": 9,
   "metadata": {},
   "outputs": [
    {
     "name": "stdout",
     "output_type": "stream",
     "text": [
      "[1 2 3]\n"
     ]
    }
   ],
   "source": [
    "\n",
    "N = input('Input the number of modes for the fluid') ## Asks user how many modes they want for the calculation.\n",
    "\n"
   ]
  },
  {
   "cell_type": "code",
   "execution_count": null,
   "metadata": {},
   "outputs": [],
   "source": [
    "def GJ_linear(N,omega): ##What the hell does this function do?\n",
    "    ## Found in literature ............. (give reference)\n",
    "    \n",
    "    #Takes the number of nodes and the data set of omega\n",
    "    lmda = np.linspace(np.log(1/omega[end]),np.log(1/data[0]),N) #Not sure what this is, but its required to calculate this z value\n",
    "    \n",
    "    \n",
    "    \n",
    "    \n",
    "    return z"
   ]
  }
 ],
 "metadata": {
  "kernelspec": {
   "display_name": "Python 3",
   "language": "python",
   "name": "python3"
  },
  "language_info": {
   "codemirror_mode": {
    "name": "ipython",
    "version": 3
   },
   "file_extension": ".py",
   "mimetype": "text/x-python",
   "name": "python",
   "nbconvert_exporter": "python",
   "pygments_lexer": "ipython3",
   "version": "3.8.3"
  }
 },
 "nbformat": 4,
 "nbformat_minor": 4
}
