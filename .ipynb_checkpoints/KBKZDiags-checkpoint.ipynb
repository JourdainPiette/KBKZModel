{
 "cells": [
  {
   "cell_type": "code",
   "execution_count": 1,
   "metadata": {},
   "outputs": [],
   "source": [
    "import numpy as np\n",
    "\n",
    "## Take the diagonal components of Matrix A\n",
    "def diags(A):\n",
    "    n = np.size(A)\n",
    "    B = np.zeros(n)\n",
    "    for i in range(0,n):\n",
    "        B[i] = A[i,i]\n",
    "    return B"
   ]
  },
  {
   "cell_type": "code",
   "execution_count": 1,
   "metadata": {},
   "outputs": [],
   "source": [
    "def function1(x,a,b,theta):\n",
    "    #Not sure yet, need to find where this comes from, creats a tensor\n",
    "    A = 2\n",
    "    B = -1\n",
    "    C = -1\n",
    "    z = np.zeros((n,n))\n",
    "    z[1,:] = ((x.^A+tetha*x.^(-A))-(x.^B+tetha*x.^(-B)))./((a-3)+b*(x.^A+x.^B+x.^C)+(1-b)*(x.^(-A)+x.^(-B)+x.^(-C)))\n",
    "    z[2,:] = ((x.^A+tetha*x.^(-A))-(x.^C+tetha*x.^(-C)))./((a-3)+b*(x.^A+x.^B+x.^C)+(1-b)*(x.^(-A)+x.^(-B)+x.^(-C)))\n",
    "    z[3,:] = ((x.^B+tetha*x.^(-B))-(x.^C+tetha*x.^(-C)))./((a-3)+b*(x.^A+x.^B+x.^C)+(1-b)*(x.^(-A)+x.^(-B)+x.^(-C)))\n",
    "    return z"
   ]
  },
  {
   "cell_type": "code",
   "execution_count": 1,
   "metadata": {},
   "outputs": [],
   "source": [
    "def function2(x,a,b,theta):\n",
    "    #No idea what this function is either\n",
    "    z = (x.^2-1./x-tetha*(x-1./x.^2)).*a./((a-3)+(b*(x.^2+2./x))+(1-b)*(2*x+1./x.^2))\n",
    "    return z"
   ]
  },
  {
   "cell_type": "code",
   "execution_count": 1,
   "metadata": {},
   "outputs": [],
   "source": [
    "def function_1(Omega,Beta,Gp):\n",
    "    #No idea what this function is either we need to divide by Gprime after this is returned\n",
    "    N = np.size(Beta,1)\n",
    "    M = np.size(Omega,1)\n",
    "    A = np.zeros((M,1))\n",
    "    for i in range(0,M):\n",
    "        for j in range(0,N/2):\n",
    "            A[i,1] = A[i,1] + Beta[j]*Beta[N/2+j]/(1+(Beta[j]*Omega[i]**2))\n",
    "    \n",
    "    return (A*Omega**2)/Gp\n",
    "  \n",
    "    \n",
    "    "
   ]
  },
  {
   "cell_type": "code",
   "execution_count": 1,
   "metadata": {},
   "outputs": [],
   "source": [
    "def function_2(Omega,Beta,Gpp):\n",
    "    #No idea again, but ill find out ## Need to divide by G double prime \n",
    "    N = np.size(Beta,1)\n",
    "    M = np.size(Omega,1)\n",
    "    A = np.zeros((M,1))\n",
    "    for i in range(0,M):\n",
    "        for j in range(0,N/2):\n",
    "            A[i,1] = A[i,1] + Beta[N/2+j]/(1+(Beta[j]*Omega[i]**2))\n",
    "    \n",
    "    return (A*Omega)/Gpp"
   ]
  },
  {
   "cell_type": "code",
   "execution_count": 1,
   "metadata": {},
   "outputs": [],
   "source": [
    "def Jac1(Omega,Beta,Gp):\n",
    "    N = np.size(Beta,1)\n",
    "    M = np.size(Omega,1)\n",
    "    A = np.zeros((M,1))\n",
    "    for i in range(0,M):\n",
    "        for j in range(0,N/2):\n",
    "            A[i,1] = (Beta[N/2+j]*Omega[i]**2)/(Gp[i]) * ((1-(Omega[i]*Beta[j])**2)/(1+(Omega[i]*Beta[j])**2)**2)\n",
    "            A[i,j+N/2] = (Beta[j]*Omega[i]**2)/(Gp[i]*(1+(Omega[i]*Beta[j])**2))\n",
    "            \n",
    "    return A"
   ]
  },
  {
   "cell_type": "code",
   "execution_count": 1,
   "metadata": {},
   "outputs": [],
   "source": [
    "def Jac2(Omega,Beta,Gpp):\n",
    "    N = np.size(Beta,1)\n",
    "    M = np.size(Omega,1)\n",
    "    A = np.zeros((M,1))\n",
    "    for i in range(0,M):\n",
    "        for j in range(0,N/2):\n",
    "            A[i,j] = (-2*Beta[N/2+j]*Beta[j]*Omega[i]**3) / (Gpp[i]) *(1+((Omega[i]*Beta[j])**2)**2)\n",
    "            A[i,j+N/2] = (Beta[j]*Omega[i]**2)/(Gp[i]*(1+(Omega[i]*Beta[j])**2))        \n",
    "    return A"
   ]
  },
  {
   "cell_type": "code",
   "execution_count": 1,
   "metadata": {},
   "outputs": [],
   "source": [
    "def Sfunc(Omega,Beta):\n",
    "    S = (1-function_1(Omega,Beta)**2) + (1-function_2(Omega,Beta)**2)\n",
    "    return np.sum(S)"
   ]
  },
  {
   "cell_type": "code",
   "execution_count": 1,
   "metadata": {},
   "outputs": [],
   "source": [
    "def Visc(t_min,t_max,I,gd,l,g,a):\n",
    "    N = 100\n",
    "    g0 = 0\n",
    "    if np.size(g,1) == 1:\n",
    "        siz = np.size(g,2)\n",
    "    else:\n",
    "        siz= np.size(g,1)\n",
    "    \n",
    "    x0 = a*g0*t_min/(a+(gd*t_min)**2)\n",
    "    x1 = a*g0*t_max/(a+(gd*t_max)**2)\n",
    "    x2 = 0\n",
    "    s = logspace(np.log10(t_min),np.log10(t_max),N)\n",
    "    sum = 0\n",
    "    \n",
    "    for k in range(0,siz):\n",
    "        x0 += a*g[k]*np.exp(-t_min/l[k])*t_min/(a+(gd*t_min)**2)\n",
    "        x1 += a*g[k]*np.exp(-t_max/l[k])*t_max/(a+(gd*t_max)**2)\n",
    "        #x2 += (a*gd*g[k]/l[k]) * trapz(s,s*np.exp(-s/l[k]) / (a+(gd*s)**2)) /gd ## Need some matlab function called trapz\n",
    "    \n",
    "    \n",
    "    return (I+(-x0+x1+x2))"
   ]
  },
  {
   "cell_type": "code",
   "execution_count": 1,
   "metadata": {},
   "outputs": [
    {
     "ename": "SyntaxError",
     "evalue": "invalid syntax (<ipython-input-1-fd5e63134bfe>, line 17)",
     "output_type": "error",
     "traceback": [
      "\u001b[1;36m  File \u001b[1;32m\"<ipython-input-1-fd5e63134bfe>\"\u001b[1;36m, line \u001b[1;32m17\u001b[0m\n\u001b[1;33m    z[1,:] = ((x.^A+tetha*x.^(-A))-(x.^B+tetha*x.^(-B)))./((a-3)+b*(x.^A+x.^B+x.^C)+(1-b)*(x.^(-A)+x.^(-B)+x.^(-C)))\u001b[0m\n\u001b[1;37m                 ^\u001b[0m\n\u001b[1;31mSyntaxError\u001b[0m\u001b[1;31m:\u001b[0m invalid syntax\n"
     ]
    }
   ],
   "source": [
    "def VisE(t_min,t_max,eps,a,b,g,l,I,tetha,flag):\n",
    "    N=100;\n",
    "    if np.size(g,1) == 1:\n",
    "        siz = np.size(g,2)\n",
    "    else:\n",
    "        siz= np.size(g,1)\n",
    "\n",
    "    x0=[0;0;0]\n",
    "    x1=[0;0;0]\n",
    "    x2=[0;0;0]\n",
    "    s= np.logspace(np.log10(t_min),np.log10(t_max),N)\n",
    "\n",
    "    if flag==1:\n",
    "        for k in range(0,siz):\n",
    "            x0=x0+a*g(k)*exp(-t_min/l(k))*f(exp(eps*t_min),a,b(k),tetha)/eps;\n",
    "            x1=x1+a*g(k)*exp(-t_max/l(k))*f(exp(eps*t_max),a,b(k),tetha)/eps;\n",
    "            x2=x2+trapz(s,a*(g(k)/l(k))*exp(-s./l(k)).*f(exp(eps*s),a,b(k),tetha))/eps;\n",
    "        end\n",
    "    else\n",
    "        for k in range(0,siz):\n",
    "            x0=x0+a*g(k)*exp(-t_min/l(k))*f(exp(eps*t_min),a,b,tetha)/eps;\n",
    "            x1=x1+a*g(k)*exp(-t_max/l(k))*f(exp(eps*t_max),a,b,tetha)/eps;\n",
    "            A=f(exp(eps*s),a,b,tetha);\n",
    "            x2(1,1)=x2(1,1)+trapz(s,a*(g(k)/l(k))*exp(-s./l(k)).*A(1,:))/eps;\n",
    "            x2(2,1)=x2(2,1)+trapz(s,a*(g(k)/l(k))*exp(-s./l(k)).*A(2,:))/eps;\n",
    "            x2(3,1)=x2(3,1)+trapz(s,a*(g(k)/l(k))*exp(-s./l(k)).*A(3,:))/eps;\n",
    "            \n",
    "            \n",
    "            "
   ]
  },
  {
   "cell_type": "code",
   "execution_count": null,
   "metadata": {},
   "outputs": [],
   "source": []
  }
 ],
 "metadata": {
  "kernelspec": {
   "display_name": "Python 3",
   "language": "python",
   "name": "python3"
  },
  "language_info": {
   "codemirror_mode": {
    "name": "ipython",
    "version": 3
   },
   "file_extension": ".py",
   "mimetype": "text/x-python",
   "name": "python",
   "nbconvert_exporter": "python",
   "pygments_lexer": "ipython3",
   "version": "3.8.3"
  }
 },
 "nbformat": 4,
 "nbformat_minor": 4
}
