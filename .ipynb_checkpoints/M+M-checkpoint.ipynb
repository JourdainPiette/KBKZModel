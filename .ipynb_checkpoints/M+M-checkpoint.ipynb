{
 "cells": [
  {
   "cell_type": "code",
   "execution_count": 2,
   "metadata": {},
   "outputs": [],
   "source": [
    "## Creating Fundamental curve and maxwell mode elements from G' and G'' frequency sweeps.\n",
    "# we first need to import required libraries\n",
    "import matplotlib as mpl\n",
    "\n",
    "%config InlineBackend.figure_formats = ['svg']\n",
    "\n",
    "mpl.rcParams.update(mpl.rcParamsDefault)\n",
    "mpl.rcParams.update({'mathtext.fontset': 'cm'})\n",
    "mpl.rcParams.update({'axes.labelsize': 22})\n",
    "mpl.rcParams.update({'axes.titlesize': 16})\n",
    "mpl.rcParams.update({'axes.linewidth': 0.5})\n",
    "mpl.rcParams.update({'xtick.labelsize': 10})\n",
    "mpl.rcParams.update({'ytick.labelsize': 10})\n",
    "\n",
    "import matplotlib.pyplot as plt\n",
    "\n",
    "%matplotlib inline\n",
    "\n",
    "import numpy as np #Needed for a bunch of mathematical operations."
   ]
  },
  {
   "cell_type": "markdown",
   "metadata": {},
   "source": [
    "## Importing omega, G' and G'' data"
   ]
  },
  {
   "cell_type": "code",
   "execution_count": 10,
   "metadata": {},
   "outputs": [],
   "source": [
    "import xlrd #Documentation on how to use xlrd @ https://openpyxl.readthedocs.io/en/stable/\n",
    "\n",
    "## This part will require the user to diligently take data from \n",
    "#their experiment and set up the omega G' and G'' arrays properly\n",
    "\n",
    "#Extracting Data Experimental Data Excel File\n",
    "workbook = xlrd.open_workbook('Practice_Data.xlsx')\n",
    "#Setting up Model Parameters sheet\n",
    "sheet_MP = workbook.sheet_by_name('LVE')\n",
    "\n",
    "## Creating cell value range of the Maxwell Model Mode results\n",
    "cell_range = sheet_MP.cell_value(2,3)\n",
    "omega = np.zeros(21)\n",
    "T160 = np.zeros((21,2))\n",
    "T180 = np.zeros((21,2))\n",
    "T200 = np.zeros((21,2))\n",
    "T220 = np.zeros((21,2))\n",
    "T240 = np.zeros((21,2))\n",
    "T260 = np.zeros((21,2))\n",
    "for i in range(0,2):\n",
    "    for j in range(0,21):\n",
    "        G160 = float(sheet_MP.cell_value(3+j,i+1))\n",
    "        G180 = float(sheet_MP.cell_value(3+j,i+3))\n",
    "        G200 = float(sheet_MP.cell_value(3+j,i+5))\n",
    "        G220 = float(sheet_MP.cell_value(3+j,i+7))\n",
    "        G240 = float(sheet_MP.cell_value(3+j,i+9))\n",
    "        G260 = float(sheet_MP.cell_value(3+j,i+11))\n",
    "        omega[j] = float(sheet_MP.cell_value(3+j,0))\n",
    "        # Put the values in the matrices\n",
    "        T160[j,i] = G160\n",
    "        T180[j,i] = G180\n",
    "        T200[j,i] = G200\n",
    "        T220[j,i] = G220\n",
    "        T240[j,i] = G240\n",
    "        T260[j,i] = G260\n",
    "\n"
   ]
  },
  {
   "cell_type": "markdown",
   "metadata": {},
   "source": [
    "## Creating the fundamental curve\n",
    "First we need to make a fundamental curve by horizontally shifting the G' and G'' curves to a reference temperature."
   ]
  },
  {
   "cell_type": "code",
   "execution_count": null,
   "metadata": {},
   "outputs": [],
   "source": [
    "fig, ax = plt.subplots(figsize=(6, 6))\n",
    "ax.plot( tt, Int1,  color='black', label='0.05' )\n",
    "ax.plot( tt, Int2,  color='red', label='0.1' )\n",
    "ax.plot( tt, Int3,  color='green', label='1.0' )\n",
    "ax.plot( tt, Int4,  color='blue', label='2.0' )\n",
    "ax.set_xlabel('$Time$')\n",
    "ax.set_ylabel('$Shear stress growth$')\n",
    "ax.set_yscale('log')\n",
    "ax.set_xscale('log')\n",
    "ax.axis([0.01, 100, 100, 1e5])\n",
    "ax.set_title('BKBZ Prediction')\n",
    "ax.legend(loc='best',title='Legend')\n",
    "ax.grid()  "
   ]
  }
 ],
 "metadata": {
  "kernelspec": {
   "display_name": "Python 3",
   "language": "python",
   "name": "python3"
  },
  "language_info": {
   "codemirror_mode": {
    "name": "ipython",
    "version": 3
   },
   "file_extension": ".py",
   "mimetype": "text/x-python",
   "name": "python",
   "nbconvert_exporter": "python",
   "pygments_lexer": "ipython3",
   "version": "3.8.3"
  }
 },
 "nbformat": 4,
 "nbformat_minor": 4
}
