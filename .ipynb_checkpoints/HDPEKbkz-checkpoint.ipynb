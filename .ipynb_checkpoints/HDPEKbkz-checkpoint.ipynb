{
 "cells": [
  {
   "cell_type": "code",
   "execution_count": 2,
   "metadata": {},
   "outputs": [
    {
     "name": "stderr",
     "output_type": "stream",
     "text": [
      "Matplotlib is building the font cache; this may take a moment.\n"
     ]
    }
   ],
   "source": [
    "#Importing libraries\n",
    "import matplotlib as mpl\n",
    "\n",
    "%config InlineBackend.figure_formats = ['svg']\n",
    "\n",
    "mpl.rcParams.update(mpl.rcParamsDefault)\n",
    "mpl.rcParams.update({'mathtext.fontset': 'cm'})\n",
    "mpl.rcParams.update({'axes.labelsize': 22})\n",
    "mpl.rcParams.update({'axes.titlesize': 16})\n",
    "mpl.rcParams.update({'axes.linewidth': 0.5})\n",
    "mpl.rcParams.update({'xtick.labelsize': 10})\n",
    "mpl.rcParams.update({'ytick.labelsize': 10})\n",
    "\n",
    "import matplotlib.pyplot as plt\n",
    "\n",
    "%matplotlib inline\n",
    "\n",
    "import numpy as np #Needed for a bunch of mathematical operations."
   ]
  },
  {
   "cell_type": "code",
   "execution_count": 3,
   "metadata": {},
   "outputs": [],
   "source": [
    "import xlrd #Documentation on how to use xlrd @ https://openpyxl.readthedocs.io/en/stable/\n",
    "import numpy as np\n",
    "\n",
    "##Please send me an email if you need the data referenced in this cell\n",
    "# I'm supposed to keep the origin of the data confidencial\n",
    "\n",
    "#Extracting Data Experimental Data Excel File\n",
    "workbook = xlrd.open_workbook('Practice_Data.xlsx')\n",
    "\n",
    "#Setting up Model Parameters sheet\n",
    "sheet_MP = workbook.sheet_by_name('MODEL PARAMETERS')\n",
    "\n",
    "## Creating cell value range of the Maxwell Model Mode results\n",
    "cell_range = sheet_MP.cell_value(2,3)\n",
    "MaxModelModes = np.zeros((8,2))\n",
    "\n",
    "for i in range(0,2):\n",
    "    for j in range(0,8):\n",
    "        \n",
    "        JJ = sheet_MP.cell_value(j+2,i+4)\n",
    "        JJ = float(JJ)\n",
    "        MaxModelModes[j,i] = JJ\n",
    "## MaxModelModes has lambdai and Gi in the first and second columns respectively. Lambda [=] sec, Gi [=] Pa\n",
    "LambdA = MaxModelModes[:,0] # Array of the lambda values\n",
    "GiRelax = MaxModelModes[:,1] # Array of the relaxtion modulus values\n",
    "\n",
    "\n",
    "## If you only have the values from a table, just import them manually.\n",
    "LambdA = [7.69e-4, 6.98e-3, 5.11e-2, 0.42, 4.30, 29.27]\n",
    "GiRelax = [3.79e5, 1.40e5, 5.68e4, 1.84e4, 4.52e3, 1.25e3]\n",
    "\n",
    "\n",
    "N = np.size(LambdA) # Number of modes of the maxwell model. This will be used below for integral calculation in the BKBZ model.\n",
    "\n",
    "#The KBKZ is a big numerical integration to get the shear stress values basically. So we need to integrate from -infinity to t while summing over all the modes on this inside. \n"
   ]
  },
  {
   "cell_type": "markdown",
   "metadata": {},
   "source": [
    "## Defining the deformation tensors"
   ]
  },
  {
   "cell_type": "code",
   "execution_count": 4,
   "metadata": {},
   "outputs": [],
   "source": [
    "# Defining the Cauchy and Finger Tensors here.\n",
    "\n",
    "def Cauchy(G1, G2, strainType):\n",
    "    #Defining the Cauchy strain tensor with strain at t1 =  gamma 1 and strain at t2 = gamma 2\n",
    "    C = np.zeros((3,3))\n",
    "    gamma1 = G1\n",
    "    gamma2 = G2\n",
    "    dif = gamma2 - gamma1\n",
    "    if strainType == \"Shear\":\n",
    "        C[0,0] = C[2,2] = 1\n",
    "        C[0,1] = C[1,0] = dif\n",
    "        C[1,1] = 1 + (dif)**2 \n",
    "    elif strainType == 'Extension':\n",
    "        C[0,0] = np.exp(2 * (dif))\n",
    "        C[1,1] = C[2,2] = np.exp(-(dif))\n",
    "    \n",
    "    else :\n",
    "        print('Remember to give a strain type')\n",
    "    \n",
    "    return C\n",
    "\n",
    "\n",
    "def Finger(G1, G2, strainType):\n",
    "    #Defining the Finger strain tensor with strain at t1 =  gamma 1 and strain at t2 = gamma 2\n",
    "    B = np.zeros((3,3))\n",
    "    gamma1 = G1\n",
    "    gamma2 = G2\n",
    "    dif = gamma1 - gamma2\n",
    "    if strainType == \"Shear\":\n",
    "        B[1,1] = B[2,2] = 1\n",
    "        B[0,1] = dif \n",
    "        B[1,0] = dif\n",
    "        B[0,0] = 1 + (dif)**2 \n",
    "    elif strainType == 'Extension':\n",
    "        B[0,0] = np.exp(2 * (dif))\n",
    "        B[1,1] = B[2,2] = np.exp(-(dif))\n",
    "    \n",
    "    else :\n",
    "        print('Remember to give a strain type')\n",
    "    \n",
    "    return B\n",
    "\n",
    "\n",
    "# Getting the invariants of the strain tensors\n",
    "def Invariants3by3(Tensor):\n",
    "    # Takes any 3x3 matrix and calculates the invrariants of the matrix.\n",
    "    # I will simply add the values as described in textbook. Rather than doing tedious calculations\n",
    "    Inv1 = Tensor[0,0] + Tensor[1,1] + Tensor[2,2]\n",
    "    Inv2 = Tensor[0,0]*Tensor[2,2] + Tensor[1,1]*Tensor[2,2] + Tensor[0,0]*Tensor[2,2] - Tensor[0,1]*Tensor[1,0] - Tensor[1,2]*Tensor[2,1] - Tensor[0,2]*Tensor[2,0]\n",
    "    Inv3 = np.linalg.det(Tensor)\n",
    "    return (Inv1,Inv2,Inv3)"
   ]
  },
  {
   "cell_type": "markdown",
   "metadata": {},
   "source": [
    "## Defining the strain \n"
   ]
  },
  {
   "cell_type": "code",
   "execution_count": 5,
   "metadata": {},
   "outputs": [],
   "source": [
    "#For now we are only using start-up, so the gamma is easy to define\n",
    "\n",
    "def gammaStartUpSS(gamma0,t):\n",
    "    if t<0:\n",
    "        return 0\n",
    "    else:\n",
    "        return (gamma0*t)"
   ]
  },
  {
   "cell_type": "markdown",
   "metadata": {},
   "source": [
    "## Writing out the important functions for the integration\n"
   ]
  },
  {
   "cell_type": "code",
   "execution_count": 6,
   "metadata": {},
   "outputs": [],
   "source": [
    "def RelaxationMod(t):\n",
    "    RelSum = 0\n",
    "    for i in range(0,N):\n",
    "        RelSum += (GiRelax[i]) * np.exp(-(t) / LambdA[i]) # Becareful of the definition of tend here!\n",
    "    return RelSum\n",
    "\n",
    "def MemoryMod(s):\n",
    "    MemSum = 0\n",
    "    for i in range(0,N):\n",
    "        MemSum += (GiRelax[i]/LambdA[i]) * np.exp(-(s) / LambdA[i]) # Becareful of the definition of tend here!\n",
    "    return MemSum\n",
    "\n",
    "def DampingFunction(t,gamma0,StrainType):\n",
    "    ##Note beta and alpha are global variable used when the function is first called!\n",
    "    \n",
    "    #Bring in the finger tensor\n",
    "    StrainTensor = Finger(gammaStartUpSS(gamma0,t),gammaStartUpSS(gamma0,0),StrainType)\n",
    "    #Calculate the invariants\n",
    "    Inv1,Inv2,Inv3 = Invariants3by3(StrainTensor)\n",
    "    I = beta*Inv1 + (1-beta)*Inv2 #Using the Papanastasiou Invariant\n",
    "    damping = alpha/(I + (alpha-3)) #Calculating the damping value \n",
    "    return (damping)\n",
    "    #print(damping)"
   ]
  },
  {
   "cell_type": "markdown",
   "metadata": {},
   "source": [
    "## Defining the integrated term and the front term from Eq. (X) of the report.\n"
   ]
  },
  {
   "cell_type": "code",
   "execution_count": 7,
   "metadata": {},
   "outputs": [],
   "source": [
    "## Starting with the integrated term which is integrated from 0 to t for ds\n",
    "\n",
    "def BKBZ_Int(s,gamma0,StrainType):\n",
    "    #Get the memory modulus sum for the current value of s\n",
    "    Term1 = MemoryMod(s)\n",
    "    #Get the damping function\n",
    "    Term2 = DampingFunction(s,gamma0,StrainType)\n",
    "    # Getting the strain from the correct position in the deformation tensor.\n",
    "    B = Finger(gammaStartUpSS(gamma0,s),gammaStartUpSS(gamma0,0),StrainType)\n",
    "    C = Cauchy(gammaStartUpSS(gamma0,s),gammaStartUpSS(gamma0,0),StrainType)\n",
    "    if StrainType == 'Extension': #row in the stress tensor. Can be from 0 to 2\n",
    "        row = 0\n",
    "        col = 0\n",
    "        Term3 = (B[row,col] - B[row+1,col+1]) + theta*(C[row,col] - C[row+1,col+1])#*gamma0\n",
    "    elif StrainType == 'Shear':\n",
    "        row=1\n",
    "        col =0\n",
    "        Term3 = B[row,col] + theta*C[row,col]#*gamma0\n",
    "    Fin = Term1*Term2*Term3/(1-theta)\n",
    "    return Fin\n",
    "\n",
    "def BKBZ_Front(t,gamma0,StrainType):\n",
    "    #Get the relaxation modulus sum for the current value of t\n",
    "    Term1 = RelaxationMod(t)\n",
    "    #Get the damping function\n",
    "    Term2 = DampingFunction(t,gamma0,StrainType)\n",
    "    # Getting the strain from the correct position in the deformation tensor.\n",
    "    B = Finger(gammaStartUpSS(gamma0,t),gammaStartUpSS(gamma0,0),StrainType)\n",
    "    C = Cauchy(gammaStartUpSS(gamma0,t),gammaStartUpSS(gamma0,0),StrainType)\n",
    "    if StrainType == 'Extension': #row in the stress tensor. Can be from 0 to 2\n",
    "        row = 0\n",
    "        col = 0\n",
    "        Term3 = (B[row,col] - B[row+1,col+1]) + theta*(C[row,col] - C[row+1,col+1])\n",
    "    elif StrainType == 'Shear':\n",
    "        row=1\n",
    "        col =0\n",
    "        Term3 = B[row,col] + theta*C[row,col]\n",
    "    Fin = Term1*Term2*Term3/(1-theta)\n",
    "    return Fin\n",
    "\n"
   ]
  },
  {
   "cell_type": "markdown",
   "metadata": {},
   "source": [
    "## Writting out a function that integrates BKBZ_Int using romberg integration"
   ]
  },
  {
   "cell_type": "code",
   "execution_count": 8,
   "metadata": {},
   "outputs": [],
   "source": [
    "def Romber_BKBZ(t,gamma0,StrainType,tol = 1e-6,maxit = 10):\n",
    "    tstart = 0\n",
    "    # Initialize the Romberg Matrix\n",
    "    I = np.zeros((maxit+1,maxit+1))\n",
    "    # Initialization\n",
    "    n = 1\n",
    "    tarray = np.linspace(tstart,t)\n",
    "    dt = (t - tstart) / n\n",
    "    II = 0\n",
    "    for i in range(0,n): #Simple trapz integration\n",
    "        II += (BKBZ_Int(tarray[i],gamma0,StrainType) + BKBZ_Int(tarray[i+1],gamma0,StrainType))*dt/2\n",
    "    I[0,0] = II\n",
    "    iter = 0\n",
    "    \n",
    "    ## Loop until convergence or maxit is attained\n",
    "    while ( iter < maxit ):\n",
    "        iter += 1\n",
    "\n",
    "        # Divide h by 2 at each iteration and get new time interval\n",
    "        n = 2**iter\n",
    "        tarray = np.linspace(tstart,t,n+1)    \n",
    "        dt = (t - tstart) / n\n",
    "        # Compute an approximation with trapezoidal rule with h = ( b - a ) / 2^iter\n",
    "        II = 0\n",
    "        for i in range(0,n):\n",
    "             II+= (BKBZ_Int(tarray[i],gamma0,StrainType)+BKBZ_Int(tarray[i+1],gamma0,StrainType))*dt/2\n",
    "        I[iter,0] = II\n",
    "        # Compute the improved estimates at each level\n",
    "        for k in range(1,iter+1):\n",
    "            j = iter - k;\n",
    "            I[j,k] = ( 4**k * I[j+1,k-1] - I[j,k-1] ) / ( 4**k - 1 )\n",
    "\n",
    "            # Compute relative error and check convergence\n",
    "        ea = np.abs( ( I[0,iter] - I[1,iter-1] ) / I[0,iter] )\n",
    "        if ea < tol: break\n",
    "\n",
    "        integral = I[0,iter]\n",
    "        \n",
    "        niter = iter\n",
    "    return(integral)"
   ]
  },
  {
   "cell_type": "markdown",
   "metadata": {},
   "source": [
    "## Now we can use what we have to calculate for the start up viscosity"
   ]
  },
  {
   "cell_type": "code",
   "execution_count": 14,
   "metadata": {},
   "outputs": [
    {
     "ename": "KeyboardInterrupt",
     "evalue": "Interrupted by user",
     "output_type": "error",
     "traceback": [
      "\u001b[1;31m---------------------------------------------------------------------------\u001b[0m",
      "\u001b[1;31mKeyboardInterrupt\u001b[0m                         Traceback (most recent call last)",
      "\u001b[1;32m<ipython-input-14-2d0defd3cefa>\u001b[0m in \u001b[0;36m<module>\u001b[1;34m\u001b[0m\n\u001b[0;32m     11\u001b[0m \u001b[1;33m\u001b[0m\u001b[0m\n\u001b[0;32m     12\u001b[0m \u001b[1;31m## Define StrainType and gamma0\u001b[0m\u001b[1;33m\u001b[0m\u001b[1;33m\u001b[0m\u001b[1;33m\u001b[0m\u001b[0m\n\u001b[1;32m---> 13\u001b[1;33m \u001b[0mStrainType\u001b[0m \u001b[1;33m=\u001b[0m \u001b[0minput\u001b[0m\u001b[1;33m(\u001b[0m\u001b[1;34m'What is the strain type? Shear or Extension'\u001b[0m\u001b[1;33m)\u001b[0m\u001b[1;33m\u001b[0m\u001b[1;33m\u001b[0m\u001b[0m\n\u001b[0m\u001b[0;32m     14\u001b[0m \u001b[0mP\u001b[0m \u001b[1;33m=\u001b[0m \u001b[0mint\u001b[0m\u001b[1;33m(\u001b[0m\u001b[0minput\u001b[0m\u001b[1;33m(\u001b[0m\u001b[1;34m'How many shear rates/extensional rates to calculate? (integer)'\u001b[0m\u001b[1;33m)\u001b[0m\u001b[1;33m)\u001b[0m\u001b[1;33m\u001b[0m\u001b[1;33m\u001b[0m\u001b[0m\n\u001b[0;32m     15\u001b[0m \u001b[0mgamma0\u001b[0m \u001b[1;33m=\u001b[0m \u001b[0mnp\u001b[0m\u001b[1;33m.\u001b[0m\u001b[0mzeros\u001b[0m\u001b[1;33m(\u001b[0m\u001b[0mP\u001b[0m\u001b[1;33m)\u001b[0m\u001b[1;33m\u001b[0m\u001b[1;33m\u001b[0m\u001b[0m\n",
      "\u001b[1;32mC:\\Anaconda\\lib\\site-packages\\ipykernel\\kernelbase.py\u001b[0m in \u001b[0;36mraw_input\u001b[1;34m(self, prompt)\u001b[0m\n\u001b[0;32m    858\u001b[0m                 \u001b[1;34m\"raw_input was called, but this frontend does not support input requests.\"\u001b[0m\u001b[1;33m\u001b[0m\u001b[1;33m\u001b[0m\u001b[0m\n\u001b[0;32m    859\u001b[0m             )\n\u001b[1;32m--> 860\u001b[1;33m         return self._input_request(str(prompt),\n\u001b[0m\u001b[0;32m    861\u001b[0m             \u001b[0mself\u001b[0m\u001b[1;33m.\u001b[0m\u001b[0m_parent_ident\u001b[0m\u001b[1;33m,\u001b[0m\u001b[1;33m\u001b[0m\u001b[1;33m\u001b[0m\u001b[0m\n\u001b[0;32m    862\u001b[0m             \u001b[0mself\u001b[0m\u001b[1;33m.\u001b[0m\u001b[0m_parent_header\u001b[0m\u001b[1;33m,\u001b[0m\u001b[1;33m\u001b[0m\u001b[1;33m\u001b[0m\u001b[0m\n",
      "\u001b[1;32mC:\\Anaconda\\lib\\site-packages\\ipykernel\\kernelbase.py\u001b[0m in \u001b[0;36m_input_request\u001b[1;34m(self, prompt, ident, parent, password)\u001b[0m\n\u001b[0;32m    902\u001b[0m             \u001b[1;32mexcept\u001b[0m \u001b[0mKeyboardInterrupt\u001b[0m\u001b[1;33m:\u001b[0m\u001b[1;33m\u001b[0m\u001b[1;33m\u001b[0m\u001b[0m\n\u001b[0;32m    903\u001b[0m                 \u001b[1;31m# re-raise KeyboardInterrupt, to truncate traceback\u001b[0m\u001b[1;33m\u001b[0m\u001b[1;33m\u001b[0m\u001b[1;33m\u001b[0m\u001b[0m\n\u001b[1;32m--> 904\u001b[1;33m                 \u001b[1;32mraise\u001b[0m \u001b[0mKeyboardInterrupt\u001b[0m\u001b[1;33m(\u001b[0m\u001b[1;34m\"Interrupted by user\"\u001b[0m\u001b[1;33m)\u001b[0m \u001b[1;32mfrom\u001b[0m \u001b[1;32mNone\u001b[0m\u001b[1;33m\u001b[0m\u001b[1;33m\u001b[0m\u001b[0m\n\u001b[0m\u001b[0;32m    905\u001b[0m             \u001b[1;32mexcept\u001b[0m \u001b[0mException\u001b[0m \u001b[1;32mas\u001b[0m \u001b[0me\u001b[0m\u001b[1;33m:\u001b[0m\u001b[1;33m\u001b[0m\u001b[1;33m\u001b[0m\u001b[0m\n\u001b[0;32m    906\u001b[0m                 \u001b[0mself\u001b[0m\u001b[1;33m.\u001b[0m\u001b[0mlog\u001b[0m\u001b[1;33m.\u001b[0m\u001b[0mwarning\u001b[0m\u001b[1;33m(\u001b[0m\u001b[1;34m\"Invalid Message:\"\u001b[0m\u001b[1;33m,\u001b[0m \u001b[0mexc_info\u001b[0m\u001b[1;33m=\u001b[0m\u001b[1;32mTrue\u001b[0m\u001b[1;33m)\u001b[0m\u001b[1;33m\u001b[0m\u001b[1;33m\u001b[0m\u001b[0m\n",
      "\u001b[1;31mKeyboardInterrupt\u001b[0m: Interrupted by user"
     ]
    }
   ],
   "source": [
    "## Defining fitting parameters\n",
    "import time\n",
    "tic = time.perf_counter()\n",
    "\n",
    "\n",
    "\n",
    "\n",
    "alpha = 11.8\n",
    "beta = 1.0\n",
    "theta = 0\n",
    "\n",
    "## Define StrainType and gamma0\n",
    "StrainType = input('What is the strain type? Shear or Extension')\n",
    "P = int(input('How many shear rates/extensional rates to calculate? (integer)'))\n",
    "gamma0 = np.zeros(P)\n",
    "for j in range(0,P):\n",
    "    print('Input the shear rate',j+1)\n",
    "    gamma0[j] = input('Input the shear rates/extensional rate')\n",
    "\n",
    "\n",
    "\n",
    "## Creating the time interval\n",
    "tt = np.logspace(-2,3,200)\n",
    "\n",
    "#Initializing\n",
    "Int = np.zeros((len(tt),P))\n",
    "for p in range(0,P):\n",
    "    for i in range(0,len(tt)):\n",
    "        Int[i,p] = (BKBZ_Front(tt[i],float(gamma0[p]),StrainType) + Romber_BKBZ(tt[i],float(gamma0[p]),StrainType,tol = 1e-10,maxit = 10))/float(gamma0[p])\n",
    "        \n",
    "CC = ['red','black','green','blue','yellow','cyan'] #range of colours to use    \n",
    "fig, ax = plt.subplots(figsize=(6, 6))\n",
    "for p in range(0,P):\n",
    "    ax.plot( tt, Int[:,p],  color=CC[p], label= gamma0[p] )\n",
    "\n",
    "ax.set_xlabel('Time (s)')\n",
    "ax.set_ylabel('Tensile stress growth (Pa*s)')\n",
    "ax.set_yscale('log')\n",
    "ax.set_xscale('log')\n",
    "ax.axis([0.01, 1e4, 1000, 1e5])\n",
    "ax.set_title('KBKZ Prediction')\n",
    "ax.legend(loc='best',title='Legend')\n",
    "ax.grid()  \n",
    "toc = time.perf_counter()\n",
    "print(f'Time to solution = {toc - tic:.8f} seconds')"
   ]
  },
  {
   "cell_type": "code",
   "execution_count": 25,
   "metadata": {},
   "outputs": [
    {
     "name": "stdout",
     "output_type": "stream",
     "text": [
      "60000.0\n"
     ]
    }
   ],
   "source": [
    "StrainType = 'Shear'\n",
    "t = 6000\n",
    "gamma0= 10\n",
    "B= Finger(gammaStartUpSS(gamma0,t),gammaStartUpSS(gamma0,0),StrainType)\n",
    "C = Cauchy(gammaStartUpSS(gamma0,t),gammaStartUpSS(gamma0,0),StrainType)\n",
    "if StrainType == 'Extension': #row in the stress tensor. Can be from 0 to 2\n",
    "    row = 0\n",
    "    col = 0\n",
    "    Term3 = (B[row,col] - B[row+1,col+1]) + theta*(C[row,col] - C[row+1,col+1])\n",
    "elif StrainType == 'Shear':\n",
    "    row=1\n",
    "    col =0\n",
    "    Term3 = B[row,col] + theta*C[row,col]\n",
    "print(Term3)"
   ]
  },
  {
   "cell_type": "code",
   "execution_count": 26,
   "metadata": {},
   "outputs": [
    {
     "name": "stdout",
     "output_type": "stream",
     "text": [
      "3.2777777670339508e-09\n",
      "186.3426933514911\n"
     ]
    }
   ],
   "source": [
    "print(DampingFunction(t,gamma0,StrainType))\n",
    "print(Romber_BKBZ(t,gamma0,StrainType,tol = 1e-6,maxit = 10))"
   ]
  },
  {
   "cell_type": "code",
   "execution_count": null,
   "metadata": {},
   "outputs": [],
   "source": []
  }
 ],
 "metadata": {
  "kernelspec": {
   "display_name": "Python 3",
   "language": "python",
   "name": "python3"
  },
  "language_info": {
   "codemirror_mode": {
    "name": "ipython",
    "version": 3
   },
   "file_extension": ".py",
   "mimetype": "text/x-python",
   "name": "python",
   "nbconvert_exporter": "python",
   "pygments_lexer": "ipython3",
   "version": "3.8.5"
  }
 },
 "nbformat": 4,
 "nbformat_minor": 4
}
